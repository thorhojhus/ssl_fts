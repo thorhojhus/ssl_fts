{
 "cells": [
  {
   "cell_type": "code",
   "execution_count": 84,
   "metadata": {},
   "outputs": [],
   "source": [
    "from cmath import exp, pi\n",
    "\n",
    "\n",
    "def FFT(p):\n",
    "    n = len(p)\n",
    "    if n == 1:\n",
    "        return p\n",
    "    w = exp(-2j * pi / n)\n",
    "    pe = p[0::2]\n",
    "    po = p[1::2]\n",
    "    ye = FFT(pe)\n",
    "    yo = FFT(po)\n",
    "    y = [0] * n\n",
    "    for k in range(n // 2):\n",
    "        y[k] = ye[k] + (w**k) * yo[k]\n",
    "        y[k + n // 2] = ye[k] - (w**k) * yo[k]\n",
    "    return y\n",
    "\n",
    "\n",
    "def IFFT(p):\n",
    "    n = len(p)\n",
    "    if n == 1:\n",
    "        return p\n",
    "    w = (1 / n) * exp(2j * pi / n)\n",
    "    pe = p[0::2]\n",
    "    po = p[1::2]\n",
    "    ye = IFFT(pe)\n",
    "    yo = IFFT(po)\n",
    "    y = [0] * n\n",
    "    for k in range(n // 2):\n",
    "        y[k] = ye[k] + (w**k) * yo[k]\n",
    "        y[k + n // 2] = ye[k] - w**k * yo[k]\n",
    "    return y"
   ]
  },
  {
   "cell_type": "code",
   "execution_count": 85,
   "metadata": {},
   "outputs": [
    {
     "data": {
      "text/plain": [
       "True"
      ]
     },
     "execution_count": 85,
     "metadata": {},
     "output_type": "execute_result"
    }
   ],
   "source": [
    "import numpy as np\n",
    "\n",
    "n = 16\n",
    "x = np.linspace(0, 2 * np.pi, n)\n",
    "np.allclose(np.fft.fft(x), np.array(FFT(x)))"
   ]
  },
  {
   "cell_type": "code",
   "execution_count": 94,
   "metadata": {},
   "outputs": [
    {
     "data": {
      "text/plain": [
       "array([ 0.,  1.,  2.,  3.,  4.,  5.,  6.,  7.,  8.,  9., 10., 11., 12.,\n",
       "       13., 14., 15.])"
      ]
     },
     "execution_count": 94,
     "metadata": {},
     "output_type": "execute_result"
    }
   ],
   "source": [
    "\n",
    "def IFFT(p):\n",
    "    n = len(p)\n",
    "    if n == 1:\n",
    "        return p\n",
    "    w = exp(2j * pi / n)\n",
    "    pe = p[0::2]\n",
    "    po = p[1::2]\n",
    "    ye = IFFT(pe)\n",
    "    yo = IFFT(po)\n",
    "    y = [0] * n\n",
    "    for k in range(n // 2):\n",
    "        y[k] = ye[k] + (w**k) * yo[k]\n",
    "        y[k + n // 2] = ye[k] - (w**k) * yo[k]\n",
    "    return y\n",
    "\n",
    "\n",
    "def scale_ifft(p):\n",
    "    n = len(p)\n",
    "    return [x / n for x in p]\n",
    "\n",
    "\n",
    "x = np.arange(2**4)\n",
    "np.array(scale_ifft(IFFT(FFT(x)))).real"
   ]
  }
 ],
 "metadata": {
  "kernelspec": {
   "display_name": "base",
   "language": "python",
   "name": "python3"
  },
  "language_info": {
   "codemirror_mode": {
    "name": "ipython",
    "version": 3
   },
   "file_extension": ".py",
   "mimetype": "text/x-python",
   "name": "python",
   "nbconvert_exporter": "python",
   "pygments_lexer": "ipython3",
   "version": "3.12.3"
  }
 },
 "nbformat": 4,
 "nbformat_minor": 2
}

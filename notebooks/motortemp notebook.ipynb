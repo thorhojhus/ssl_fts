{
 "cells": [
  {
   "cell_type": "code",
   "execution_count": 2,
   "metadata": {},
   "outputs": [
    {
     "name": "stderr",
     "output_type": "stream",
     "text": [
      "Downloading...\n",
      "From (original): https://drive.google.com/uc?export=download&id=1XvZ2rfK3OxheTDK70n90rfrp95lCqzVs\n",
      "From (redirected): https://drive.google.com/uc?export=download&id=1XvZ2rfK3OxheTDK70n90rfrp95lCqzVs&confirm=t&uuid=2c10b40b-3dc3-4287-a416-b522fd9730ad\n",
      "To: /Users/andreaseefsen/Desktop/02466/FITS NEW/ssl_fts/notebooks/measures_v2.csv\n",
      "100%|██████████| 300M/300M [00:40<00:00, 7.44MB/s] \n"
     ]
    },
    {
     "ename": "NameError",
     "evalue": "name 'output' is not defined",
     "output_type": "error",
     "traceback": [
      "\u001b[0;31m---------------------------------------------------------------------------\u001b[0m",
      "\u001b[0;31mNameError\u001b[0m                                 Traceback (most recent call last)",
      "Cell \u001b[0;32mIn[2], line 15\u001b[0m\n\u001b[1;32m     11\u001b[0m     download_url \u001b[38;5;241m=\u001b[39m \u001b[38;5;124mf\u001b[39m\u001b[38;5;124m'\u001b[39m\u001b[38;5;124mhttps://drive.google.com/uc?export=download&id=\u001b[39m\u001b[38;5;132;01m{\u001b[39;00mfile_id\u001b[38;5;132;01m}\u001b[39;00m\u001b[38;5;124m'\u001b[39m\n\u001b[1;32m     12\u001b[0m     gdown\u001b[38;5;241m.\u001b[39mdownload(download_url, name, quiet\u001b[38;5;241m=\u001b[39m\u001b[38;5;28;01mFalse\u001b[39;00m)\n\u001b[0;32m---> 15\u001b[0m data \u001b[38;5;241m=\u001b[39m pd\u001b[38;5;241m.\u001b[39mread_csv(\u001b[43moutput\u001b[49m)\n\u001b[1;32m     16\u001b[0m df\u001b[38;5;241m=\u001b[39mdata\n\u001b[1;32m     17\u001b[0m \u001b[38;5;66;03m# df = data[data['profile_id'] == 2]\u001b[39;00m\n",
      "\u001b[0;31mNameError\u001b[0m: name 'output' is not defined"
     ]
    }
   ],
   "source": [
    "import os\n",
    "import gdown\n",
    "import pandas as pd\n",
    "import matplotlib.pyplot as plt\n",
    "\n",
    "name = 'measures_v2.csv'\n",
    "\n",
    "#download fra google drive\n",
    "if not os.path.isfile(name):\n",
    "    file_id = '1XvZ2rfK3OxheTDK70n90rfrp95lCqzVs'\n",
    "    download_url = f'https://drive.google.com/uc?export=download&id={file_id}'\n",
    "    gdown.download(download_url, name, quiet=False)\n",
    "\n",
    "\n",
    "data = pd.read_csv(name)\n",
    "df=data\n",
    "# df = data[data['profile_id'] == 2]\n",
    "\n",
    "df = df.drop(columns=['torque', 'stator_tooth'])\n",
    "\n",
    "df['wattage'] = (df['u_d'] * df['i_d'] + df['u_q'] * df['i_q']) / 100\n",
    "\n",
    "def mean_of_chunks(df, chunk_size=100):\n",
    "    return df.groupby(df.index // chunk_size).mean()\n",
    "\n",
    "df_means = mean_of_chunks(df)\n",
    "\n",
    "df_means.hist(figsize=(15, 10), bins=30, edgecolor='black')\n",
    "plt.suptitle('Histograms of all columns averaged over 100 samples')\n",
    "plt.show()\n",
    "\n",
    "plt.figure(figsize=(14, 8))\n",
    "plt.plot(df_means['coolant'], label='Coolant Temperature')\n",
    "plt.plot(df_means['stator_winding'], label='Stator Winding Temperature')\n",
    "plt.plot(df_means['ambient'], label='Ambient Temperature')\n",
    "plt.plot(df_means['pm'], label='Rotor Temperature')\n",
    "plt.plot(df_means['wattage'], label='Wattage * 1e2')\n",
    "plt.title('Plot of the different channels')\n",
    "plt.xlabel('Index')\n",
    "plt.ylabel('Value')\n",
    "plt.legend()\n",
    "plt.grid(True)\n",
    "plt.show()\n",
    "\n",
    "export_columns = ['stator_winding', 'ambient', 'pm', 'wattage', 'profile_id']\n",
    "df_means_export = df_means[export_columns]\n",
    "export_path = './multichannel.csv'\n",
    "df_means_export.to_csv(export_path, index=False)\n"
   ]
  }
 ],
 "metadata": {
  "kernelspec": {
   "display_name": "venv",
   "language": "python",
   "name": "python3"
  },
  "language_info": {
   "codemirror_mode": {
    "name": "ipython",
    "version": 3
   },
   "file_extension": ".py",
   "mimetype": "text/x-python",
   "name": "python",
   "nbconvert_exporter": "python",
   "pygments_lexer": "ipython3",
   "version": "3.12.2"
  }
 },
 "nbformat": 4,
 "nbformat_minor": 2
}

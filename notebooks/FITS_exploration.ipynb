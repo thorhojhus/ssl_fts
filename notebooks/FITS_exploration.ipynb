{
 "cells": [
  {
   "cell_type": "code",
   "execution_count": 52,
   "metadata": {},
   "outputs": [],
   "source": [
    "import torch\n",
    "import torch.nn as nn\n",
    "import torch.nn.functional as F\n",
    "import numpy as np\n",
    "from dataclasses import dataclass\n",
    "import lovely_tensors as lt\n",
    "lt.monkey_patch()"
   ]
  },
  {
   "cell_type": "code",
   "execution_count": 78,
   "metadata": {},
   "outputs": [
    {
     "name": "stdout",
     "output_type": "stream",
     "text": [
      "length_ratio 1.5\n",
      "x tensor[1, 120, 1] x∈[0.009, 0.994] μ=0.485 σ=0.287\n",
      "x_mean tensor[1, 1, 1] [[[0.485]]]\n",
      "x_var tensor[1, 1, 1] [[[0.083]]]\n",
      "x tensor[1, 120, 1] x∈[-1.657, 1.771] μ=-1.192e-07 σ=1.000\n",
      "low_specx torch.Size([1, 61, 1])\n",
      "low_specx_var tensor[1, 1, 1] [[[119.863]]]\n",
      "low_specx_mean tensor([[[-0.0314-0.9799j]]])\n",
      "low_specx torch.Size([1, 61, 1])\n",
      "low_specx torch.Size([1, 20, 1])\n",
      "low_specxy_ torch.Size([1, 30, 1])\n",
      "low_specxy torch.Size([1, 91, 1])\n",
      "torch.Size([1, 61, 1])\n",
      "low_specxy torch.Size([1, 91, 1])\n",
      "low_xy torch.Size([1, 180, 1])\n",
      "low_xy torch.Size([1, 180, 1])\n"
     ]
    },
    {
     "data": {
      "text/plain": [
       "torch.Size([1, 180, 1])"
      ]
     },
     "execution_count": 78,
     "metadata": {},
     "output_type": "execute_result"
    }
   ],
   "source": [
    "class Model(nn.Module):\n",
    "\n",
    "    # FITS: Frequency Interpolation Time Series Forecasting\n",
    "\n",
    "    def __init__(self, configs):\n",
    "        super(Model, self).__init__()\n",
    "        self.seq_len = configs.seq_len\n",
    "        self.pred_len = configs.pred_len\n",
    "        self.individual = configs.individual\n",
    "        self.channels = configs.enc_in\n",
    "\n",
    "        self.dominance_freq=configs.cut_freq # 720/24\n",
    "        self.length_ratio = (self.seq_len + self.pred_len)/self.seq_len\n",
    "\n",
    "        if self.individual:\n",
    "            self.freq_upsampler = nn.ModuleList()\n",
    "            for i in range(self.channels):\n",
    "                self.freq_upsampler.append(nn.Linear(self.dominance_freq, int(self.dominance_freq*self.length_ratio)).to(torch.cfloat))\n",
    "\n",
    "        else:\n",
    "            self.freq_upsampler = nn.Linear(self.dominance_freq, int(self.dominance_freq*self.length_ratio)).to(torch.cfloat) # complex layer for frequency upsampling\n",
    "\n",
    "    def forward(self, x):\n",
    "        print(\"length_ratio\", self.length_ratio)\n",
    "\n",
    "        # RIN \n",
    "        print(\"x\", x)\n",
    "        x_mean = torch.mean(x, dim=1, keepdim=True)\n",
    "        print(\"x_mean\", x_mean)\n",
    "        x = x - x_mean\n",
    "        x_var = torch.var(x, dim=1, keepdim=True) + 1e-5\n",
    "        print(\"x_var\", x_var)\n",
    "        x = x / torch.sqrt(x_var)\n",
    "        print(\"x\", x)\n",
    "\n",
    "        low_specx = torch.fft.rfft(x, dim=1)\n",
    "        print(\"low_specx\", low_specx.shape)\n",
    "        print(\"low_specx_var\", torch.var(low_specx, dim=1, keepdim=True))\n",
    "        print(\"low_specx_mean\", torch.mean(low_specx, dim=1, keepdim=True))\n",
    "\n",
    "        low_specx[:,self.dominance_freq:] = 0 # LPF\n",
    "        print(\"low_specx\", low_specx.shape)\n",
    "        low_specx = low_specx[:,0:self.dominance_freq,:] # LPF\n",
    "        print(\"low_specx\", low_specx.shape)\n",
    "\n",
    "        # print(low_specx.permute(0,2,1))\n",
    "\n",
    "        if self.individual:\n",
    "        \n",
    "            low_specxy_ = torch.zeros(\n",
    "                [low_specx.size(0),\n",
    "                 int(self.dominance_freq * self.length_ratio),\n",
    "                 low_specx.size(2)],\n",
    "                 dtype=low_specx.dtype).to(low_specx.device)\n",
    "            \n",
    "            for i in range(self.channels):\n",
    "                low_specxy_[:,:,i] = self.freq_upsampler[i](\n",
    "                    low_specx[:,:,i]\n",
    "                    .permute(0,1)\n",
    "                    ).permute(0,1)\n",
    "        else:\n",
    "            low_specxy_ = self.freq_upsampler(\n",
    "                low_specx\n",
    "                .permute(0,2,1)\n",
    "                ).permute(0,2,1)\n",
    "                \n",
    "            print(\"low_specxy_\", low_specxy_.shape)\n",
    "            \n",
    "        low_specxy = torch.zeros([\n",
    "            low_specxy_.size(0),\n",
    "            int((self.seq_len + self.pred_len) / 2 + 1 ),\n",
    "            low_specxy_.size(2)],\n",
    "            dtype=low_specxy_.dtype\n",
    "            ).to(low_specxy_.device)\n",
    "        \n",
    "        print(\"low_specxy\", low_specxy.shape)\n",
    "        \n",
    "        low_specxy[:, 0:low_specxy_.size(1), :] = low_specxy_ # zero padding\n",
    "\n",
    "        print(low_specxy[:, low_specxy_.size(1):, :].shape)\n",
    "\n",
    "        print(\"low_specxy\", low_specxy.shape)\n",
    "\n",
    "        low_xy = torch.fft.irfft(low_specxy, dim=1)\n",
    "\n",
    "        print(\"low_xy\", low_xy.shape)\n",
    "\n",
    "        low_xy = low_xy * self.length_ratio # compensate the length change\n",
    "\n",
    "        print(\"low_xy\", low_xy.shape)\n",
    "        \n",
    "        xy = (low_xy) * torch.sqrt(x_var) + x_mean\n",
    "\n",
    "        return xy, low_xy * torch.sqrt(x_var)\n",
    "\n",
    "\n",
    "@dataclass\n",
    "class Config:\n",
    "    seq_len: int = 120\n",
    "    pred_len: int = 60\n",
    "    individual: bool = False\n",
    "    enc_in: int = 1\n",
    "    cut_freq: int = 20\n",
    "\n",
    "model=Model(Config())\n",
    "for param in model.parameters():\n",
    "    param.data.fill_(0)\n",
    "\n",
    "x = torch.rand(1, 120, 1)\n",
    "y = model(x)\n",
    "y[0].shape"
   ]
  },
  {
   "cell_type": "code",
   "execution_count": 79,
   "metadata": {},
   "outputs": [
    {
     "name": "stdout",
     "output_type": "stream",
     "text": [
      "Model(\n",
      "  (freq_upsampler): Linear(in_features=20, out_features=30, bias=True)\n",
      ")\n"
     ]
    }
   ],
   "source": [
    "print(model)"
   ]
  }
 ],
 "metadata": {
  "kernelspec": {
   "display_name": "Python 3",
   "language": "python",
   "name": "python3"
  },
  "language_info": {
   "codemirror_mode": {
    "name": "ipython",
    "version": 3
   },
   "file_extension": ".py",
   "mimetype": "text/x-python",
   "name": "python",
   "nbconvert_exporter": "python",
   "pygments_lexer": "ipython3",
   "version": "3.11.7"
  }
 },
 "nbformat": 4,
 "nbformat_minor": 2
}
